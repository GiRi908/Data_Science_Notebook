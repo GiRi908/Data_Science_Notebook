{
  "metadata": {
    "kernelspec": {
      "name": "python",
      "display_name": "Python (Pyodide)",
      "language": "python"
    },
    "language_info": {
      "codemirror_mode": {
        "name": "python",
        "version": 3
      },
      "file_extension": ".py",
      "mimetype": "text/x-python",
      "name": "python",
      "nbconvert_exporter": "python",
      "pygments_lexer": "ipython3",
      "version": "3.8"
    }
  },
  "nbformat_minor": 5,
  "nbformat": 4,
  "cells": [
    {
      "id": "93cdfd91-5be5-4e9d-b49e-99c7a6b6a2f2",
      "cell_type": "markdown",
      "source": "Exploring Data Science Tools and Libraries",
      "metadata": {}
    },
    {
      "id": "bf2d56b5-da29-4b6d-a784-98eea7b3f697",
      "cell_type": "markdown",
      "source": "## Introduction\nThis notebook provides an overview of data science tools, libraries, languages, and arithmetic operations. It also demonstrates basic functionality like performing calculations and converting units.\n",
      "metadata": {}
    },
    {
      "id": "8528658f-3b7c-426c-a627-be25b30e4f1a",
      "cell_type": "markdown",
      "source": "## Data Science Languages\nSome of the commonly used programming languages for data science include:\n1. Python\n2. R\n3. SQL\n4. Julia\n5. Scala\n",
      "metadata": {}
    },
    {
      "id": "4a928476-5f7e-43e4-98f2-05b54daefa1c",
      "cell_type": "markdown",
      "source": "## Data Science Libraries\nPopular libraries used in data science are:\n1. NumPy\n2. Pandas\n3. Matplotlib\n4. Scikit-learn\n5. TensorFlow\n6. PyTorch\n",
      "metadata": {}
    },
    {
      "id": "21af06a6-73f7-4055-af32-af2297c957ff",
      "cell_type": "markdown",
      "source": "## Data Science Tools\n| Tool               | Description                         |\n|--------------------|-------------------------------------|\n| Jupyter Notebook   | Interactive environment for coding |\n| RStudio            | IDE for R programming              |\n| Apache Hadoop      | Big data processing framework      |\n| Tableau            | Data visualization tool            |\n| SAS                | Advanced analytics software        |\n",
      "metadata": {}
    },
    {
      "id": "8b226cc0-affa-4941-bebf-34ff2ec634be",
      "cell_type": "markdown",
      "source": "## Arithmetic Expression Examples\nArithmetic expressions are used to perform mathematical operations like addition, subtraction, multiplication, and division.\n",
      "metadata": {}
    },
    {
      "id": "c18862f0-c606-407d-98c0-a8d6f315b016",
      "cell_type": "markdown",
      "source": "# This code multiplies two numbers and adds another\nresult = (5 * 3) + 10\nresult\n",
      "metadata": {}
    },
    {
      "id": "b423cce7-8d0e-4736-8af2-30c910e13b5f",
      "cell_type": "markdown",
      "source": "# This code converts minutes to hours\nminutes = 150\nhours = minutes / 60\nhours\n",
      "metadata": {}
    },
    {
      "id": "664d3d2f-a27f-4ae3-b9e2-cf695b27f8c5",
      "cell_type": "markdown",
      "source": "## Objectives\nBy the end of this notebook, you will be able to:\n- Understand popular data science languages and libraries.\n- Use common data science tools.\n- Perform basic arithmetic operations.\n- Convert units using Python code.\n",
      "metadata": {}
    },
    {
      "id": "30ee01b1-421e-4b44-a5dd-1275a245f3a1",
      "cell_type": "markdown",
      "source": "## Author\nGiribalan K",
      "metadata": {}
    }
  ]
}
